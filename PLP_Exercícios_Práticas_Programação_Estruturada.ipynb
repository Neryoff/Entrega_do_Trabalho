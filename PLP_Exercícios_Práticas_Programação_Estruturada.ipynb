{
  "nbformat": 4,
  "nbformat_minor": 0,
  "metadata": {
    "colab": {
      "provenance": [],
      "authorship_tag": "ABX9TyNFfor1gMlQzZeTkie0YHmh",
      "include_colab_link": true
    },
    "kernelspec": {
      "name": "python3",
      "display_name": "Python 3"
    },
    "language_info": {
      "name": "python"
    }
  },
  "cells": [
    {
      "cell_type": "markdown",
      "metadata": {
        "id": "view-in-github",
        "colab_type": "text"
      },
      "source": [
        "<a href=\"https://colab.research.google.com/github/Neryoff/Entrega_do_Trabalho/blob/main/PLP_Exerc%C3%ADcios_Pr%C3%A1ticas_Programa%C3%A7%C3%A3o_Estruturada.ipynb\" target=\"_parent\"><img src=\"https://colab.research.google.com/assets/colab-badge.svg\" alt=\"Open In Colab\"/></a>"
      ]
    },
    {
      "cell_type": "code",
      "execution_count": null,
      "metadata": {
        "id": "9DLoYLNCaxUp"
      },
      "outputs": [],
      "source": [
        "# Programa 01 - Linguagem Python - Programação\n",
        "# Autor: Victor Nery de Lima Maia de Medina - Data: 18/08/2023 - Linguagem: Python."
      ]
    },
    {
      "cell_type": "markdown",
      "source": [
        "Descrição Narrativa: Faça um programa que leia duas notas e calcule sua média, levando em consideração que para ser aprovado o aluno tem\n",
        "que ter média >= 7."
      ],
      "metadata": {
        "id": "-wKJdkpBbmwx"
      }
    },
    {
      "cell_type": "code",
      "source": [
        "from typing_extensions import reveal_type\n",
        "\n",
        "# Leitura do Dados de Entrada\n",
        "Nota1 = (float(input(\"Informae o valor da primeira nota:\")))\n",
        "Nota2 = (float(input(\"Informe o valor da segunda nota:\")))\n",
        "\n",
        "# Calcular a Média das Notas\n",
        "Med = (Nota1 + Nota2)/2\n",
        "\n",
        "# Estrutura de Decisão com IF para Verificar se o Aluno foi Aprovado ou Reprovado\n",
        "if(Med >=7):\n",
        "  Rep =  \"APROVADO\"\n",
        "else:\n",
        "  Rep = \"REPROVADO\"\n",
        "\n",
        "# Escreva os Resultados Obtidos\n",
        "print(\"O valor da média é:\", Med)\n",
        "print(\"O conceito do aluno foi:\", Rep)\n"
      ],
      "metadata": {
        "id": "SehCDAnScKqA"
      },
      "execution_count": null,
      "outputs": []
    },
    {
      "cell_type": "code",
      "source": [
        "## Modularizando o Programa em Questão"
      ],
      "metadata": {
        "id": "hMkiyxZUj5MW"
      },
      "execution_count": null,
      "outputs": []
    },
    {
      "cell_type": "code",
      "source": [
        "# Criando o método para calcular em Questão\n",
        "def calmedia(n1, n2):\n",
        "  return (n1 + n2)/2"
      ],
      "metadata": {
        "id": "ghpD6Nhpjktn"
      },
      "execution_count": null,
      "outputs": []
    },
    {
      "cell_type": "code",
      "source": [
        "# Verificar a situação do aluno.\n",
        "def verificarsituacao(media):\n",
        "  if (media >= 7):\n",
        "    return  \"APROVADO\"\n",
        "  else:\n",
        "    return \"REPROVADO\""
      ],
      "metadata": {
        "id": "lTHycBeLkghC"
      },
      "execution_count": null,
      "outputs": []
    },
    {
      "cell_type": "code",
      "source": [
        "from typing_extensions import reveal_type\n",
        "\n",
        "# Leitura do Dados de Entrada\n",
        "Nota1 = (float(input(\"Informe o valor da primeira nota:\")))\n",
        "Nota2 = (float(input(\"Informe o valor da segunda nota:\")))\n",
        "\n",
        "# Calcular a Média das Notas\n",
        "med = calmedia(Nota1, Nota2)\n",
        "\n",
        "# Estrutura de Decisão com IF para Verificar se o Aluno foi Aprovado ou Reprovado\n",
        "resp = verificarsituacao(med)\n",
        "\n",
        "# Escreva os Resultados Obtidos\n",
        "print(\"O valor da média é:\", med)\n",
        "print(\"O conceito do aluno foi:\", resp)\n"
      ],
      "metadata": {
        "id": "w58g8vTNlafj"
      },
      "execution_count": null,
      "outputs": []
    },
    {
      "cell_type": "code",
      "source": [
        "# Criando o método para calcular desconto no  Produto\n",
        "def caldesconto(n1, n2):\n",
        "  return (n1*n2/100)"
      ],
      "metadata": {
        "id": "lxtBucj8pFDU"
      },
      "execution_count": null,
      "outputs": []
    },
    {
      "cell_type": "code",
      "source": [
        "#Criando um método para calcular o valor final do Produto\n",
        "def valorproduto(x1, x2):\n",
        "  return(x1-x2)"
      ],
      "metadata": {
        "id": "17ILtq3AsHJz"
      },
      "execution_count": null,
      "outputs": []
    },
    {
      "cell_type": "code",
      "source": [
        "# Leitura do Dados de Entrada\n",
        "Vproduto = (float(input(\"Informe o valor do produto:\")))\n",
        "Vdesconto = (float(input(\"Informe o valor do desconto:\")))\n",
        "\n",
        "# Calcular a Média das Notas\n",
        "desc = caldesconto(Vproduto, Vdesconto)\n",
        "\n",
        "# Escreva os Resultados Obtidos\n",
        "print(\"O valor do produto com desconto é R$:\", valorproduto(Vproduto, desc))\n",
        "print(\"O desconto foi de R$:\", desc)\n"
      ],
      "metadata": {
        "id": "PQWM9QS8pZm7"
      },
      "execution_count": null,
      "outputs": []
    },
    {
      "cell_type": "code",
      "source": [
        "#Calculo do tempo que passou fumando\n",
        "def tempoperdido(n1, n2):\n",
        "  return(n1*365*n2*10)"
      ],
      "metadata": {
        "id": "erDWdAHxuoIR"
      },
      "execution_count": null,
      "outputs": []
    },
    {
      "cell_type": "code",
      "source": [
        "#Calculo do tempo perdido de vida\n",
        "def tempoemanos(x1):\n",
        "  return int (x1/(24*60*30))"
      ],
      "metadata": {
        "id": "bwKROrADwJvy"
      },
      "execution_count": null,
      "outputs": []
    },
    {
      "cell_type": "code",
      "source": [
        "# Leitura do Dados de Entrada\n",
        "Cigarrosdia = (int(input(\"Informe quantos cigarros você fuma por dia:\")))\n",
        "Tempofumando = (int(input(\"Informe a quanto tempo você fuma:\")))\n",
        "\n",
        "# Calcular a tempo perdido\n",
        "anos_fumando = tempoperdido (Cigarrosdia, Tempofumando)\n",
        "\n",
        "# Escreva os Resultados Obtidos\n",
        "print(\"O tempo que você perdeu fumando foi de:\", tempoemanos(anos_fumando), \"anos\")\n",
        "\n"
      ],
      "metadata": {
        "id": "mGEoIOBluSui"
      },
      "execution_count": null,
      "outputs": []
    },
    {
      "cell_type": "markdown",
      "source": [
        "Escreva um programa que pergunte o salário do funcionário, se o salário for de 1250 à baixo recebera um aumento de 15% se maior, de 10%"
      ],
      "metadata": {
        "id": "S5pFiHKzjK4k"
      }
    },
    {
      "cell_type": "code",
      "source": [
        "# Verificar salrio do funcionario.\n",
        "def verificarsituacao(sal):\n",
        "  if float(sal <= 1250):\n",
        "    return  (sal+(sal*0.15))\n",
        "  else:\n",
        "    return (sal+(sal*0.10))"
      ],
      "metadata": {
        "id": "axGYt6hvixlb"
      },
      "execution_count": null,
      "outputs": []
    },
    {
      "cell_type": "code",
      "source": [
        "# Leitura do Dados de Entrada\n",
        "Salario = (float(input(\"Informe o valor do seu salário:\")))\n",
        "\n",
        "# Calcular aumento do salario\n",
        "aumento = verificarsituacao(Salario)\n",
        "\n",
        "# Escreva os Resultados Obtidos\n",
        "print(\"O seu salário atual é de:\", aumento)"
      ],
      "metadata": {
        "id": "F4VF-x4vicw8"
      },
      "execution_count": null,
      "outputs": []
    },
    {
      "cell_type": "code",
      "source": [
        "#Faça um programa em Python que recebe 6 números inteiros e mostre:\n",
        "#Os números pares digitados;\n",
        "#Os números ímpares digitados;\n",
        "#A quantidade de números ímpares\n",
        "\n",
        "def main():\n",
        "  numeros = []\n",
        "  numeros_pares = []\n",
        "  numeros_impares = []\n",
        "  soma_pares = 0\n",
        "\n",
        "  #Leitura dos Elementos do Vetor são 6 números..\n",
        "  for i in range(6):\n",
        "    numeros.append(int(input(\"Digite um número: \")))\n",
        "\n",
        "  #Identificando Números Pares e Impares e adicionando aos respectivos vetores..\n",
        "  for numero in numeros:\n",
        "    if numero %2 == 0:\n",
        "      numeros_pares.append(numero)\n",
        "      soma_pares += numero\n",
        "    else:\n",
        "      numeros_impares.append(numero)\n",
        "\n",
        "    print(\"Os números pares digitados são: \")\n",
        "    for numero in numeros_pares:\n",
        "      print(numero)\n",
        "    print(\"A soma dos números pares digitados é \", soma_pares)\n",
        "    print(\"Os números ímpares digitados são: \")\n",
        "    for numero in numeros_impares:\n",
        "      print(numero)\n",
        "    print(\"A quantidade de números ímpares digitados é \", len(numeros_impares))\n",
        "    print(\"O valor máximo digitado é \", max(numeros))\n",
        "    print(\"O valor mínimo digitado é \", min(numeros))\n",
        "\n",
        "  if __name__==\"__main__\":\n",
        "    main()"
      ],
      "metadata": {
        "id": "PH2Bp2qPn0r9"
      },
      "execution_count": null,
      "outputs": []
    },
    {
      "cell_type": "code",
      "source": [
        "#Faça um programa em Python para gerar automaticamente\n",
        "#Números entre 0 e 99 de uma cartela de bingo.\n",
        "#Sabendo que cada cartela devera conter 5 linhas e 5 números,\n",
        "#gere estes dados de  odo a não ter números repetidos dentro\n",
        "#das cartelas. O programa deve exibir na a cartela gerada\n",
        "\n",
        "import random\n",
        "\n",
        "def gerar_cartela():\n",
        "  numeros = set()\n",
        "  cartela = []\n",
        "  for i in range(5):\n",
        "    numero = random.randint(0, 99)\n",
        "    while numero in numeros:\n",
        "      numero = random.randint(0, 99)\n",
        "    numeros.add(numero)\n",
        "    cartela.append(numero)\n",
        "  return cartela\n",
        "\n",
        "def main():\n",
        "  cartela = gerar_cartela()\n",
        "  print(\"Cartela de bingo: \")\n",
        "  for linha in cartela:\n",
        "      print(linha)\n",
        "\n",
        "if __name__==\"__main__\":\n",
        "    main()"
      ],
      "metadata": {
        "id": "NS14I7iQsijE"
      },
      "execution_count": null,
      "outputs": []
    },
    {
      "cell_type": "code",
      "source": [
        "import random\n",
        "\n",
        "def gerar_cartela():\n",
        "    cartela = []\n",
        "\n",
        "    while len(cartela) < 25:\n",
        "        numero = random.randint(0, 99)\n",
        "        if numero not in cartela:\n",
        "            cartela.append(numero)\n",
        "\n",
        "    return cartela\n",
        "\n",
        "def exibir_cartela(cartela):\n",
        "    for i in range(5):\n",
        "        for j in range(5):\n",
        "            index = i * 5 + j\n",
        "            print(f'{cartela[index]:2}', end='  ')\n",
        "        print()\n",
        "\n",
        "def main():\n",
        "    num_cartelas = int(input(\"Quantas cartelas você deseja gerar? \"))\n",
        "\n",
        "    for i in range(num_cartelas):\n",
        "        cartela = gerar_cartela()\n",
        "        print(f'\\nCartela {i + 1}:\\n')\n",
        "        exibir_cartela(cartela)\n",
        "\n",
        "if __name__ == \"__main__\":\n",
        "    main()"
      ],
      "metadata": {
        "id": "EadwBghgxwel"
      },
      "execution_count": null,
      "outputs": []
    },
    {
      "cell_type": "code",
      "source": [
        "#Crie um dicionário que é uma agenda e coloque nele os seguintes dados: chave(cpf),\n",
        "#nome, idade, telefone. O programa deve ler um número indeterminado de dados, criar\n",
        "#a agenda e imprimir todos os itens do dicionário no formato chave: nome, idade, fone.\n",
        "\n",
        "def main():\n",
        "    # Cria um dicionário vazio\n",
        "    agenda = {}\n",
        "\n",
        "    #Lê os dados da agenda\n",
        "    while True:\n",
        "        cpf = input(\"Digite o CPF: \")\n",
        "        nome = input(\"Digite o nome: \")\n",
        "        idade = input(\"Digite a idade: \")\n",
        "        telefone = input(\"Digite o telefone: \")\n",
        "\n",
        "        #Adiciona os dados ao dicionário\n",
        "        agenda[cpf] = {\n",
        "            \"nome\": nome,\n",
        "            \"idade\": idade,\n",
        "            \"telefone\": telefone,\n",
        "        }\n",
        "\n",
        "        #Pergunta se o usuário deseja continuar\n",
        "        continuar = input(\"Deseja continuar? (s/n): \")\n",
        "        if continuar != \"s\":\n",
        "          break\n",
        "\n",
        "    #Imprime os itens do dicionário\n",
        "    for cpf, contato in agenda.items():\n",
        "      print(cpf, contato[\"nome\"], contato[\"idade\"], contato[\"telefone\"])\n",
        "\n",
        "if __name__ == \"__main__\":\n",
        "    main()"
      ],
      "metadata": {
        "id": "7W-zTNuXyCcT"
      },
      "execution_count": null,
      "outputs": []
    }
  ]
}